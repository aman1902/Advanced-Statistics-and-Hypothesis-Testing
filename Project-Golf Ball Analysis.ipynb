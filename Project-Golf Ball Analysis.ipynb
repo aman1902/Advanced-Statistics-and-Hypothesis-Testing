{
 "cells": [
  {
   "cell_type": "markdown",
   "metadata": {},
   "source": [
    "# Project- 2 : Par Inc Golf Ball \n",
    "### Submitted By : Aman Kumar Agarwal"
   ]
  },
  {
   "cell_type": "markdown",
   "metadata": {},
   "source": [
    "### Problem Statement: \n",
    "Par Inc., is a major manufacturer of golf equipment. Management believes that Par’s market share could be increased with the introduction of a cut-resistant, longer-lasting golf ball. Therefore, the research group at Par has been investigating a new golf ball coating designed to resist cuts and provide a more durable ball. The tests with the coating have been promising. <br>One of the researchers voiced concern about the effect of the new coating on driving distances. Par would like the new cut-resistant ball to offer driving distances comparable to those of the current-model golf ball. To compare the driving distances for the two balls, 40 balls of both the new and current models were subjected to distance tests. "
   ]
  },
  {
   "cell_type": "markdown",
   "metadata": {},
   "source": [
    "### Assumptions\n",
    "1. The testing was performed with a mechanical hitting machine so that any difference between the mean distances for the two models could be attributed to a difference in the design\n",
    "2. Wind direction and speed is uniform throughout the test"
   ]
  },
  {
   "cell_type": "markdown",
   "metadata": {},
   "source": [
    "### Questions:\n",
    "1. Formulate and present the rationale for a hypothesis test that par could use to compare the driving distances of the current and new golf balls\n",
    "2. Analyze the data to provide the hypothesis testing conclusion. What is the p-value for your test? What is your recommendation for Par Inc.?\n",
    "3. Provide descriptive statistical summaries of the data for each model\n",
    "4. What is the 95% confidence interval for the population mean of each model, and what is the 95% confidence interval for the difference between the means of the two population?\n",
    "5. Do you see a need for larger sample sizes and more testing with the golf balls? Discuss"
   ]
  },
  {
   "cell_type": "markdown",
   "metadata": {},
   "source": [
    "## Importing the necessary libraries"
   ]
  },
  {
   "cell_type": "code",
   "execution_count": 2,
   "metadata": {},
   "outputs": [],
   "source": [
    "import pandas as pd  #Dataframe handling\n",
    "import numpy as np   #Array manipulation\n",
    "import seaborn as sns #Visualization\n",
    "import matplotlib.pyplot as plt\n",
    "import scipy.stats as stats #Statistical calculations\n",
    "from scipy.stats import shapiro,levene,ttest_ind \n",
    "from statsmodels.stats.power import ttest_power\n",
    "sns.set(style=\"dark\")\n",
    "%matplotlib inline"
   ]
  },
  {
   "cell_type": "markdown",
   "metadata": {},
   "source": [
    "## Reading the dataset"
   ]
  },
  {
   "cell_type": "code",
   "execution_count": 3,
   "metadata": {},
   "outputs": [],
   "source": [
    "golf = pd.read_excel('D:/Study/AI-ML/Dataset/Project 2 Golf.xls')"
   ]
  },
  {
   "cell_type": "code",
   "execution_count": 4,
   "metadata": {},
   "outputs": [
    {
     "data": {
      "text/html": [
       "<div>\n",
       "<style scoped>\n",
       "    .dataframe tbody tr th:only-of-type {\n",
       "        vertical-align: middle;\n",
       "    }\n",
       "\n",
       "    .dataframe tbody tr th {\n",
       "        vertical-align: top;\n",
       "    }\n",
       "\n",
       "    .dataframe thead th {\n",
       "        text-align: right;\n",
       "    }\n",
       "</style>\n",
       "<table border=\"1\" class=\"dataframe\">\n",
       "  <thead>\n",
       "    <tr style=\"text-align: right;\">\n",
       "      <th></th>\n",
       "      <th>Current</th>\n",
       "      <th>New</th>\n",
       "    </tr>\n",
       "  </thead>\n",
       "  <tbody>\n",
       "    <tr>\n",
       "      <th>0</th>\n",
       "      <td>264</td>\n",
       "      <td>277</td>\n",
       "    </tr>\n",
       "    <tr>\n",
       "      <th>1</th>\n",
       "      <td>261</td>\n",
       "      <td>269</td>\n",
       "    </tr>\n",
       "    <tr>\n",
       "      <th>2</th>\n",
       "      <td>267</td>\n",
       "      <td>263</td>\n",
       "    </tr>\n",
       "    <tr>\n",
       "      <th>3</th>\n",
       "      <td>272</td>\n",
       "      <td>266</td>\n",
       "    </tr>\n",
       "    <tr>\n",
       "      <th>4</th>\n",
       "      <td>258</td>\n",
       "      <td>262</td>\n",
       "    </tr>\n",
       "  </tbody>\n",
       "</table>\n",
       "</div>"
      ],
      "text/plain": [
       "   Current  New\n",
       "0      264  277\n",
       "1      261  269\n",
       "2      267  263\n",
       "3      272  266\n",
       "4      258  262"
      ]
     },
     "execution_count": 4,
     "metadata": {},
     "output_type": "execute_result"
    }
   ],
   "source": [
    "golf.head()"
   ]
  },
  {
   "cell_type": "markdown",
   "metadata": {},
   "source": [
    "## Structure of data"
   ]
  },
  {
   "cell_type": "code",
   "execution_count": 5,
   "metadata": {},
   "outputs": [
    {
     "name": "stdout",
     "output_type": "stream",
     "text": [
      "<class 'pandas.core.frame.DataFrame'>\n",
      "RangeIndex: 40 entries, 0 to 39\n",
      "Data columns (total 2 columns):\n",
      "Current    40 non-null int64\n",
      "New        40 non-null int64\n",
      "dtypes: int64(2)\n",
      "memory usage: 720.0 bytes\n"
     ]
    }
   ],
   "source": [
    "golf.info()"
   ]
  },
  {
   "cell_type": "markdown",
   "metadata": {},
   "source": [
    "## Statistical Description of the data"
   ]
  },
  {
   "cell_type": "code",
   "execution_count": 6,
   "metadata": {
    "scrolled": true
   },
   "outputs": [
    {
     "data": {
      "text/html": [
       "<div>\n",
       "<style scoped>\n",
       "    .dataframe tbody tr th:only-of-type {\n",
       "        vertical-align: middle;\n",
       "    }\n",
       "\n",
       "    .dataframe tbody tr th {\n",
       "        vertical-align: top;\n",
       "    }\n",
       "\n",
       "    .dataframe thead th {\n",
       "        text-align: right;\n",
       "    }\n",
       "</style>\n",
       "<table border=\"1\" class=\"dataframe\">\n",
       "  <thead>\n",
       "    <tr style=\"text-align: right;\">\n",
       "      <th></th>\n",
       "      <th>Current</th>\n",
       "      <th>New</th>\n",
       "    </tr>\n",
       "  </thead>\n",
       "  <tbody>\n",
       "    <tr>\n",
       "      <th>count</th>\n",
       "      <td>40.000000</td>\n",
       "      <td>40.000000</td>\n",
       "    </tr>\n",
       "    <tr>\n",
       "      <th>mean</th>\n",
       "      <td>270.275000</td>\n",
       "      <td>267.500000</td>\n",
       "    </tr>\n",
       "    <tr>\n",
       "      <th>std</th>\n",
       "      <td>8.752985</td>\n",
       "      <td>9.896904</td>\n",
       "    </tr>\n",
       "    <tr>\n",
       "      <th>min</th>\n",
       "      <td>255.000000</td>\n",
       "      <td>250.000000</td>\n",
       "    </tr>\n",
       "    <tr>\n",
       "      <th>25%</th>\n",
       "      <td>263.000000</td>\n",
       "      <td>262.000000</td>\n",
       "    </tr>\n",
       "    <tr>\n",
       "      <th>50%</th>\n",
       "      <td>270.000000</td>\n",
       "      <td>265.000000</td>\n",
       "    </tr>\n",
       "    <tr>\n",
       "      <th>75%</th>\n",
       "      <td>275.250000</td>\n",
       "      <td>274.500000</td>\n",
       "    </tr>\n",
       "    <tr>\n",
       "      <th>max</th>\n",
       "      <td>289.000000</td>\n",
       "      <td>289.000000</td>\n",
       "    </tr>\n",
       "  </tbody>\n",
       "</table>\n",
       "</div>"
      ],
      "text/plain": [
       "          Current         New\n",
       "count   40.000000   40.000000\n",
       "mean   270.275000  267.500000\n",
       "std      8.752985    9.896904\n",
       "min    255.000000  250.000000\n",
       "25%    263.000000  262.000000\n",
       "50%    270.000000  265.000000\n",
       "75%    275.250000  274.500000\n",
       "max    289.000000  289.000000"
      ]
     },
     "execution_count": 6,
     "metadata": {},
     "output_type": "execute_result"
    }
   ],
   "source": [
    "golf.describe()"
   ]
  },
  {
   "cell_type": "code",
   "execution_count": 7,
   "metadata": {
    "scrolled": true
   },
   "outputs": [
    {
     "data": {
      "text/html": [
       "<div>\n",
       "<style scoped>\n",
       "    .dataframe tbody tr th:only-of-type {\n",
       "        vertical-align: middle;\n",
       "    }\n",
       "\n",
       "    .dataframe tbody tr th {\n",
       "        vertical-align: top;\n",
       "    }\n",
       "\n",
       "    .dataframe thead th {\n",
       "        text-align: right;\n",
       "    }\n",
       "</style>\n",
       "<table border=\"1\" class=\"dataframe\">\n",
       "  <thead>\n",
       "    <tr style=\"text-align: right;\">\n",
       "      <th></th>\n",
       "      <th>Difference</th>\n",
       "    </tr>\n",
       "  </thead>\n",
       "  <tbody>\n",
       "    <tr>\n",
       "      <th>count</th>\n",
       "      <td>40.000000</td>\n",
       "    </tr>\n",
       "    <tr>\n",
       "      <th>mean</th>\n",
       "      <td>-2.775000</td>\n",
       "    </tr>\n",
       "    <tr>\n",
       "      <th>std</th>\n",
       "      <td>13.743973</td>\n",
       "    </tr>\n",
       "    <tr>\n",
       "      <th>min</th>\n",
       "      <td>-32.000000</td>\n",
       "    </tr>\n",
       "    <tr>\n",
       "      <th>25%</th>\n",
       "      <td>-10.750000</td>\n",
       "    </tr>\n",
       "    <tr>\n",
       "      <th>50%</th>\n",
       "      <td>-2.500000</td>\n",
       "    </tr>\n",
       "    <tr>\n",
       "      <th>75%</th>\n",
       "      <td>6.500000</td>\n",
       "    </tr>\n",
       "    <tr>\n",
       "      <th>max</th>\n",
       "      <td>27.000000</td>\n",
       "    </tr>\n",
       "  </tbody>\n",
       "</table>\n",
       "</div>"
      ],
      "text/plain": [
       "       Difference\n",
       "count   40.000000\n",
       "mean    -2.775000\n",
       "std     13.743973\n",
       "min    -32.000000\n",
       "25%    -10.750000\n",
       "50%     -2.500000\n",
       "75%      6.500000\n",
       "max     27.000000"
      ]
     },
     "execution_count": 7,
     "metadata": {},
     "output_type": "execute_result"
    }
   ],
   "source": [
    "difference = pd.DataFrame(golf['New'] - golf['Current'],columns=['Difference'])\n",
    "difference.describe()"
   ]
  },
  {
   "cell_type": "markdown",
   "metadata": {},
   "source": [
    "## Visualizations"
   ]
  },
  {
   "cell_type": "code",
   "execution_count": 8,
   "metadata": {
    "scrolled": true
   },
   "outputs": [
    {
     "name": "stderr",
     "output_type": "stream",
     "text": [
      "C:\\Users\\agarw\\Anaconda3\\lib\\site-packages\\scipy\\stats\\stats.py:1713: FutureWarning: Using a non-tuple sequence for multidimensional indexing is deprecated; use `arr[tuple(seq)]` instead of `arr[seq]`. In the future this will be interpreted as an array index, `arr[np.array(seq)]`, which will result either in an error or a different result.\n",
      "  return np.add.reduce(sorted[indexer] * weights, axis=axis) / sumval\n"
     ]
    },
    {
     "data": {
      "text/plain": [
       "<matplotlib.axes._subplots.AxesSubplot at 0x160483da780>"
      ]
     },
     "execution_count": 8,
     "metadata": {},
     "output_type": "execute_result"
    },
    {
     "data": {
      "image/png": "[encoded data removed]",
      "text/plain": [
       "<Figure size 432x288 with 1 Axes>"
      ]
     },
     "metadata": {
      "needs_background": "light"
     },
     "output_type": "display_data"
    }
   ],
   "source": [
    "sns.distplot(golf['Current'],hist = None)"
   ]
  },
  {
   "cell_type": "code",
   "execution_count": 9,
   "metadata": {},
   "outputs": [
    {
     "data": {
      "text/plain": [
       "<matplotlib.axes._subplots.AxesSubplot at 0x1604871e6a0>"
      ]
     },
     "execution_count": 9,
     "metadata": {},
     "output_type": "execute_result"
    },
    {
     "data": {
      "image/png": "[encoded data removed]",
      "text/plain": [
       "<Figure size 432x288 with 1 Axes>"
      ]
     },
     "metadata": {
      "needs_background": "light"
     },
     "output_type": "display_data"
    }
   ],
   "source": [
    "sns.distplot(golf['New'],hist = None)  #slightly right skewed"
   ]
  },
  {
   "cell_type": "code",
   "execution_count": 10,
   "metadata": {},
   "outputs": [
    {
     "data": {
      "text/plain": [
       "(array([3., 4., 7., 5., 2., 9., 2., 3., 3., 2.]),\n",
       " array([255. , 258.4, 261.8, 265.2, 268.6, 272. , 275.4, 278.8, 282.2,\n",
       "        285.6, 289. ]),\n",
       " <a list of 10 Patch objects>)"
      ]
     },
     "execution_count": 10,
     "metadata": {},
     "output_type": "execute_result"
    },
    {
     "data": {
      "image/png": "[encoded data removed]",
      "text/plain": [
       "<Figure size 432x288 with 1 Axes>"
      ]
     },
     "metadata": {
      "needs_background": "light"
     },
     "output_type": "display_data"
    }
   ],
   "source": [
    "plt.hist(golf['Current'],bins=10)"
   ]
  },
  {
   "cell_type": "code",
   "execution_count": 11,
   "metadata": {},
   "outputs": [
    {
     "data": {
      "text/plain": [
       "(array([ 4.,  1.,  4., 11.,  5.,  3.,  4.,  5.,  1.,  2.]),\n",
       " array([250. , 253.9, 257.8, 261.7, 265.6, 269.5, 273.4, 277.3, 281.2,\n",
       "        285.1, 289. ]),\n",
       " <a list of 10 Patch objects>)"
      ]
     },
     "execution_count": 11,
     "metadata": {},
     "output_type": "execute_result"
    },
    {
     "data": {
      "image/png": "[encoded data removed]",
      "text/plain": [
       "<Figure size 432x288 with 1 Axes>"
      ]
     },
     "metadata": {
      "needs_background": "light"
     },
     "output_type": "display_data"
    }
   ],
   "source": [
    "plt.hist(golf['New'],bins=10)"
   ]
  },
  {
   "cell_type": "code",
   "execution_count": 12,
   "metadata": {},
   "outputs": [
    {
     "data": {
      "text/plain": [
       "(array([2., 3., 3., 4., 8., 7., 6., 4., 1., 2.]),\n",
       " array([-32. , -26.1, -20.2, -14.3,  -8.4,  -2.5,   3.4,   9.3,  15.2,\n",
       "         21.1,  27. ]),\n",
       " <a list of 10 Patch objects>)"
      ]
     },
     "execution_count": 12,
     "metadata": {},
     "output_type": "execute_result"
    },
    {
     "data": {
      "image/png": "[encoded data removed]",
      "text/plain": [
       "<Figure size 432x288 with 1 Axes>"
      ]
     },
     "metadata": {
      "needs_background": "light"
     },
     "output_type": "display_data"
    }
   ],
   "source": [
    "plt.hist(golf['New']-golf['Current'],bins=10)"
   ]
  },
  {
   "cell_type": "code",
   "execution_count": 13,
   "metadata": {},
   "outputs": [
    {
     "data": {
      "text/plain": [
       "<matplotlib.axes._subplots.AxesSubplot at 0x16049887358>"
      ]
     },
     "execution_count": 13,
     "metadata": {},
     "output_type": "execute_result"
    },
    {
     "data": {
      "image/png": "[encoded data removed]",
      "text/plain": [
       "<Figure size 432x288 with 1 Axes>"
      ]
     },
     "metadata": {
      "needs_background": "light"
     },
     "output_type": "display_data"
    }
   ],
   "source": [
    "sns.boxplot(y=golf['Current'])"
   ]
  },
  {
   "cell_type": "code",
   "execution_count": 14,
   "metadata": {},
   "outputs": [
    {
     "data": {
      "text/plain": [
       "<matplotlib.axes._subplots.AxesSubplot at 0x1604990e940>"
      ]
     },
     "execution_count": 14,
     "metadata": {},
     "output_type": "execute_result"
    },
    {
     "data": {
      "image/png": "[encoded data removed]",
      "text/plain": [
       "<Figure size 432x288 with 1 Axes>"
      ]
     },
     "metadata": {
      "needs_background": "light"
     },
     "output_type": "display_data"
    }
   ],
   "source": [
    "sns.boxplot(y=golf['New'])"
   ]
  },
  {
   "cell_type": "code",
   "execution_count": 15,
   "metadata": {
    "scrolled": false
   },
   "outputs": [
    {
     "data": {
      "text/plain": [
       "<matplotlib.axes._subplots.AxesSubplot at 0x160498ab2e8>"
      ]
     },
     "execution_count": 15,
     "metadata": {},
     "output_type": "execute_result"
    },
    {
     "data": {
      "image/png": "[encoded data removed]",
      "text/plain": [
       "<Figure size 432x288 with 1 Axes>"
      ]
     },
     "metadata": {
      "needs_background": "light"
     },
     "output_type": "display_data"
    }
   ],
   "source": [
    "sns.boxplot(y=golf['New']-golf['Current']) "
   ]
  },
  {
   "cell_type": "code",
   "execution_count": 16,
   "metadata": {},
   "outputs": [
    {
     "data": {
      "text/plain": [
       "<matplotlib.axes._subplots.AxesSubplot at 0x16049a15d68>"
      ]
     },
     "execution_count": 16,
     "metadata": {},
     "output_type": "execute_result"
    },
    {
     "data": {
      "image/png": "[encoded data removed]",
      "text/plain": [
       "<Figure size 1152x360 with 3 Axes>"
      ]
     },
     "metadata": {
      "needs_background": "light"
     },
     "output_type": "display_data"
    }
   ],
   "source": [
    "f,axes = plt.subplots(1,3,figsize=(16,5))\n",
    "sns.boxplot(y=golf['New'],ax = axes[0])\n",
    "sns.boxplot(y=golf['Current'], ax = axes[1])\n",
    "sns.boxplot(y=golf['New']-golf['Current'], ax = axes[2]) "
   ]
  },
  {
   "cell_type": "markdown",
   "metadata": {},
   "source": [
    "# <u>Formulating the Hypothesis</u>"
   ]
  },
  {
   "cell_type": "markdown",
   "metadata": {},
   "source": [
    "## Null Hypothesis  (Ho):\n",
    "###  Driving_distance(current) = Driving_distance(new)\n",
    "<br>\n",
    "There is no significant difference between the driving distances of the Current model golf balls and the New model golf balls. Therefore the new coating has no significant effect and the driving distances are comparable as the company's liking. The new balls are cut-resistant, longer lasting and therefore they should introduce the new design ball. \n",
    "\n",
    "##  Alternate Hypothesis (H1):\n",
    "### Driving_distance(current) ≠ Driving_distance(new) <br>\n",
    "There is a significant difference between the driving distances of the Current model golf balls and the New model golf balls. Therefore the new coating has significant effect on the driving distances, thus making them non-comparable, therefore the company should not introduce the new design ball."
   ]
  },
  {
   "cell_type": "markdown",
   "metadata": {},
   "source": [
    "# Shapiro Test - Test for Normality"
   ]
  },
  {
   "cell_type": "code",
   "execution_count": 17,
   "metadata": {},
   "outputs": [
    {
     "data": {
      "text/plain": [
       "(0.9707046747207642, 0.378787100315094)"
      ]
     },
     "execution_count": 17,
     "metadata": {},
     "output_type": "execute_result"
    }
   ],
   "source": [
    "shapiro(golf['Current']) #p > 0.05 ==> Not enough evidence to reject Ho, therefore data comes from normally distributed population"
   ]
  },
  {
   "cell_type": "code",
   "execution_count": 18,
   "metadata": {},
   "outputs": [
    {
     "data": {
      "text/plain": [
       "(0.9678263664245605, 0.3064655363559723)"
      ]
     },
     "execution_count": 18,
     "metadata": {},
     "output_type": "execute_result"
    }
   ],
   "source": [
    "shapiro(golf['New'])    # p > 0.05 ==> Not enough evidence to reject Ho, therefore data comes from normally distributed population"
   ]
  },
  {
   "cell_type": "markdown",
   "metadata": {},
   "source": [
    "# Levene Test - Test for equality of variance"
   ]
  },
  {
   "cell_type": "code",
   "execution_count": 19,
   "metadata": {},
   "outputs": [
    {
     "data": {
      "text/plain": [
       "LeveneResult(statistic=0.2553238291765741, pvalue=0.6147759523331309)"
      ]
     },
     "execution_count": 19,
     "metadata": {},
     "output_type": "execute_result"
    }
   ],
   "source": [
    "levene(golf['Current'],golf['New']) # p > 0.05 ==> Not enough evidence to reject Ho, therefore variances are equal"
   ]
  },
  {
   "cell_type": "markdown",
   "metadata": {},
   "source": [
    "# Testing the hypothesis"
   ]
  },
  {
   "cell_type": "markdown",
   "metadata": {},
   "source": [
    "1. When the sample size (n) increases to greater than 30, statistical theory states that it then follows normal distribution. However since the population standard deviation is not known, a T-test can be used as a t-distribution approaches a normal distribution for sample size greater than 30. \n",
    "2. The t statistic for a two sample test is given by : <br>\n",
    " <u>(x1_bar - x2_bar) - (mu1 - mu2)</u> <br> sqrt( SE1** 2 + SE2** 2 ) <br>\n",
    "4. where : <br><b> x1_bar and x2_bar</b> are the difference in sample mean, <br> <b> (mu1 - mu2) </b> is the  difference between the hypothesised mean, (0) in this case, <br> <b>SE1 and SE2 </b>are the standard errors of the two samples.\n",
    "5. We see that the given sample data belongs to two similar populations and are subjected to the same test. There is no dependency or relation between the \"Current\" distance and the \"New\" distance, therefore the data is INDEPENDENT and UNPAIRED.\n",
    "5. This value of t is the T test value for an <b>Independent and normally distributed sample</b>, which is given by the ttest_ind() test. \n",
    "6. The sample size is sufficiently large to use z-test but since the population standard deviation is not known, a two sample t-test is used. \n",
    "7. Since our aim is to indentify if there is an effect of the new design on the distance or not, a two-tailed test is used."
   ]
  },
  {
   "cell_type": "markdown",
   "metadata": {},
   "source": [
    "## Two Sample T - Test"
   ]
  },
  {
   "cell_type": "markdown",
   "metadata": {},
   "source": [
    "### Conducting the test"
   ]
  },
  {
   "cell_type": "code",
   "execution_count": 20,
   "metadata": {
    "scrolled": true
   },
   "outputs": [
    {
     "data": {
      "text/plain": [
       "(-1.3283615935245678, 0.18793228491854663)"
      ]
     },
     "execution_count": 20,
     "metadata": {},
     "output_type": "execute_result"
    }
   ],
   "source": [
    "t_statistic,p_value = ttest_ind(golf['New'],golf['Current'])\n",
    "t_statistic,p_value    #0.188 is the two tailed probability (p-value)."
   ]
  },
  {
   "cell_type": "markdown",
   "metadata": {},
   "source": [
    "### T Statistic for 95% Confidence interval for the individual samples"
   ]
  },
  {
   "cell_type": "code",
   "execution_count": 21,
   "metadata": {},
   "outputs": [
    {
     "data": {
      "text/plain": [
       "-2.0226909117347285"
      ]
     },
     "execution_count": 21,
     "metadata": {},
     "output_type": "execute_result"
    }
   ],
   "source": [
    "t_stat_95 = stats.t.ppf(0.025,39) #95% confidence for 39 degrees of freedom\n",
    "t_stat_95"
   ]
  },
  {
   "cell_type": "code",
   "execution_count": 22,
   "metadata": {},
   "outputs": [
    {
     "data": {
      "text/plain": [
       "<matplotlib.collections.PolyCollection at 0x16049ca4a20>"
      ]
     },
     "execution_count": 22,
     "metadata": {},
     "output_type": "execute_result"
    },
    {
     "data": {
      "image/png": "[encoded data removed]",
      "text/plain": [
       "<Figure size 432x288 with 1 Axes>"
      ]
     },
     "metadata": {
      "needs_background": "light"
     },
     "output_type": "display_data"
    }
   ],
   "source": [
    "x = np.linspace(-4,4,100)\n",
    "y = [stats.t.pdf(i,39) for i in x]\n",
    "line = plt.plot(x,y)\n",
    "plt.fill_between(x,y,color=\"red\",where = (x<t_stat_95))\n",
    "plt.fill_between(x,y,color=\"red\",where = (x>(-t_stat_95)))\n",
    "plt.fill_between(x,y,color=\"#03bb85\",where = (x>t_stat_95) & (x<(-t_stat_95)))"
   ]
  },
  {
   "cell_type": "markdown",
   "metadata": {},
   "source": [
    "### Critical Value Approach\n",
    "The rejection of Ho areas are shown in RED colour and the acceptance area of Ho is shown in green. <br>\n",
    "Clearly the test statistic (1.33) falls in the acceptance area and therefore by the critical value approach, there is not enough evidence to reject the Null Hypothesis."
   ]
  },
  {
   "cell_type": "markdown",
   "metadata": {},
   "source": [
    "### P-Value Approach\n",
    "The P value (two-tailed) of <b>0.188</b> indicates that it is greater than the significance level (0.05), thus indicating that there is not enough evidence to reject the Null Hypothesis (Ho), thus indicating that the mean of the two samples are the same. "
   ]
  },
  {
   "cell_type": "markdown",
   "metadata": {},
   "source": [
    "# Power of the Test\n",
    "\n",
    "In a two sample T-Test we must calculate the pooled standard deviation for the power of the test."
   ]
  },
  {
   "cell_type": "markdown",
   "metadata": {},
   "source": [
    "### Calculating the pooled standard deviation & power"
   ]
  },
  {
   "cell_type": "code",
   "execution_count": 1,
   "metadata": {},
   "outputs": [
    {
     "ename": "NameError",
     "evalue": "name 'golf' is not defined",
     "output_type": "error",
     "traceback": [
      "\u001b[1;31m---------------------------------------------------------------------------\u001b[0m",
      "\u001b[1;31mNameError\u001b[0m                                 Traceback (most recent call last)",
      "\u001b[1;32m<ipython-input-1-13250df6b74d>\u001b[0m in \u001b[0;36m<module>\u001b[1;34m\u001b[0m\n\u001b[1;32m----> 1\u001b[1;33m \u001b[0mn1\u001b[0m \u001b[1;33m=\u001b[0m \u001b[0mgolf\u001b[0m\u001b[1;33m[\u001b[0m\u001b[1;34m'Current'\u001b[0m\u001b[1;33m]\u001b[0m\u001b[1;33m.\u001b[0m\u001b[0mcount\u001b[0m\u001b[1;33m(\u001b[0m\u001b[1;33m)\u001b[0m    \u001b[1;31m# Number of samples of group 1 - 40\u001b[0m\u001b[1;33m\u001b[0m\u001b[1;33m\u001b[0m\u001b[0m\n\u001b[0m\u001b[0;32m      2\u001b[0m \u001b[0mn2\u001b[0m \u001b[1;33m=\u001b[0m \u001b[0mgolf\u001b[0m\u001b[1;33m[\u001b[0m\u001b[1;34m'New'\u001b[0m\u001b[1;33m]\u001b[0m\u001b[1;33m.\u001b[0m\u001b[0mcount\u001b[0m\u001b[1;33m(\u001b[0m\u001b[1;33m)\u001b[0m        \u001b[1;31m# Number of samples of group 2 - 40\u001b[0m\u001b[1;33m\u001b[0m\u001b[1;33m\u001b[0m\u001b[0m\n\u001b[0;32m      3\u001b[0m \u001b[0mvar1\u001b[0m \u001b[1;33m=\u001b[0m \u001b[1;33m(\u001b[0m\u001b[0mgolf\u001b[0m\u001b[1;33m[\u001b[0m\u001b[1;34m'Current'\u001b[0m\u001b[1;33m]\u001b[0m\u001b[1;33m)\u001b[0m\u001b[1;33m.\u001b[0m\u001b[0mvar\u001b[0m\u001b[1;33m(\u001b[0m\u001b[1;33m)\u001b[0m  \u001b[1;31m# Variance of group 1 - 76.61\u001b[0m\u001b[1;33m\u001b[0m\u001b[1;33m\u001b[0m\u001b[0m\n\u001b[0;32m      4\u001b[0m \u001b[0mvar2\u001b[0m \u001b[1;33m=\u001b[0m \u001b[1;33m(\u001b[0m\u001b[0mgolf\u001b[0m\u001b[1;33m[\u001b[0m\u001b[1;34m'New'\u001b[0m\u001b[1;33m]\u001b[0m\u001b[1;33m)\u001b[0m\u001b[1;33m.\u001b[0m\u001b[0mvar\u001b[0m\u001b[1;33m(\u001b[0m\u001b[1;33m)\u001b[0m      \u001b[1;31m# Variance of group 2 - 97.95\u001b[0m\u001b[1;33m\u001b[0m\u001b[1;33m\u001b[0m\u001b[0m\n",
      "\u001b[1;31mNameError\u001b[0m: name 'golf' is not defined"
     ]
    }
   ],
   "source": [
    "n1 = golf['Current'].count()    # Number of samples of group 1 - 40\n",
    "n2 = golf['New'].count()        # Number of samples of group 2 - 40\n",
    "var1 = (golf['Current']).var()  # Variance of group 1 - 76.61\n",
    "var2 = (golf['New']).var()      # Variance of group 2 - 97.95"
   ]
  },
  {
   "cell_type": "code",
   "execution_count": 24,
   "metadata": {},
   "outputs": [
    {
     "data": {
      "text/plain": [
       "9.342469200871404"
      ]
     },
     "execution_count": 24,
     "metadata": {},
     "output_type": "execute_result"
    }
   ],
   "source": [
    "s_pool = np.sqrt( (((n1-1)*var1)  + ((n2-1)*var2)) / (n1+n2-2))\n",
    "s_pool #Pooled standard deviation"
   ]
  },
  {
   "cell_type": "code",
   "execution_count": 25,
   "metadata": {},
   "outputs": [
    {
     "data": {
      "text/plain": [
       "0.2970306821820877"
      ]
     },
     "execution_count": 25,
     "metadata": {},
     "output_type": "execute_result"
    }
   ],
   "source": [
    "delta = ( np.mean(golf['Current']) - np.mean(golf['New']) ) / s_pool\n",
    "delta"
   ]
  },
  {
   "cell_type": "code",
   "execution_count": 26,
   "metadata": {},
   "outputs": [
    {
     "data": {
      "text/plain": [
       "0.4492741885390423"
      ]
     },
     "execution_count": 26,
     "metadata": {},
     "output_type": "execute_result"
    }
   ],
   "source": [
    "power = ttest_power(delta,n1,alpha=0.05,alternative=\"two-sided\")   \n",
    "power"
   ]
  },
  {
   "cell_type": "markdown",
   "metadata": {},
   "source": [
    "There is 44.93 % chance of null hypothesis being false and rejecting the null hypothesis. (1-β)"
   ]
  },
  {
   "cell_type": "markdown",
   "metadata": {},
   "source": [
    "# Confidence Intervals "
   ]
  },
  {
   "cell_type": "markdown",
   "metadata": {},
   "source": [
    "We calculate the confidence interval by <br> \n",
    "CI_1 = Mean_of_sample + (T_stat * SE ) <br>\n",
    "CI_2 = Mean_of_sample - &nbsp;(T_stat * SE ) <br><br>\n",
    "Where <br>\n",
    "<b>CI_1,CI_2:</b> Two limits of the confidence interval <br>\n",
    "<b>T-stat   :</b> T value at <b>95%</b> confidence * <br> \n",
    "<b>SE:</b> Standard Error which is given by (Estimated standard deviation of population / square root of sample size) <br><br>\n",
    "*Z-stat for 95% confidence (1.96) could also be used. The confidence intervals generated are almost identical. So here t_stat is used."
   ]
  },
  {
   "cell_type": "markdown",
   "metadata": {},
   "source": [
    "## Standard Deviations (Estimate) and Standard Errors"
   ]
  },
  {
   "cell_type": "markdown",
   "metadata": {},
   "source": [
    "We must note here that when the <i>Population</i> standard deviation is not known (as in this case), then the population standard deviation is <i>estimated</i> using an adjustment factor of <i>n-1</i> instead of <i>n</i>"
   ]
  },
  {
   "cell_type": "markdown",
   "metadata": {},
   "source": [
    "### Current Model"
   ]
  },
  {
   "cell_type": "code",
   "execution_count": 27,
   "metadata": {
    "scrolled": true
   },
   "outputs": [
    {
     "data": {
      "text/plain": [
       "(8.752984838884597, 1.383968420789864)"
      ]
     },
     "execution_count": 27,
     "metadata": {},
     "output_type": "execute_result"
    }
   ],
   "source": [
    "estimate_std_dev_of_population_1 = np.sqrt(sum( ( ( golf['Current']-golf['Current'].mean() ) ** 2 ) / (len(golf['Current'])-1) ))\n",
    "SE1 = estimate_std_dev_of_population_1/np.sqrt(40) \n",
    "estimate_std_dev_of_population_1,SE1"
   ]
  },
  {
   "cell_type": "markdown",
   "metadata": {},
   "source": [
    "### New Model"
   ]
  },
  {
   "cell_type": "code",
   "execution_count": 28,
   "metadata": {},
   "outputs": [
    {
     "data": {
      "text/plain": [
       "(9.896904462947894, 1.5648379944000428)"
      ]
     },
     "execution_count": 28,
     "metadata": {},
     "output_type": "execute_result"
    }
   ],
   "source": [
    "estimate_std_dev_of_population_2 = np.sqrt(sum( ( ( golf['New']-golf['New'].mean() ) ** 2 ) / (len(golf['New'])-1) ))\n",
    "SE2 = estimate_std_dev_of_population_2/np.sqrt(40)\n",
    "estimate_std_dev_of_population_2,SE2"
   ]
  },
  {
   "cell_type": "markdown",
   "metadata": {},
   "source": [
    "### Difference of means Model "
   ]
  },
  {
   "cell_type": "code",
   "execution_count": 29,
   "metadata": {},
   "outputs": [
    {
     "data": {
      "text/plain": [
       "2.08903962108466"
      ]
     },
     "execution_count": 29,
     "metadata": {},
     "output_type": "execute_result"
    }
   ],
   "source": [
    "SE3 = np.sqrt( (SE1**2) + (SE2**2) )\n",
    "SE3"
   ]
  },
  {
   "cell_type": "markdown",
   "metadata": {},
   "source": [
    "### Confidence Interval of <i> \"Current\" </i> Model"
   ]
  },
  {
   "cell_type": "code",
   "execution_count": 30,
   "metadata": {},
   "outputs": [
    {
     "data": {
      "text/plain": [
       "(267.47565965314044, 273.0743403468595)"
      ]
     },
     "execution_count": 30,
     "metadata": {},
     "output_type": "execute_result"
    }
   ],
   "source": [
    "ci_1_left  = np.mean(golf['Current']) + (t_stat_95*SE1)\n",
    "ci_1_right = np.mean(golf['Current']) - (t_stat_95*SE1)\n",
    "ci_1_left,ci_1_right"
   ]
  },
  {
   "cell_type": "markdown",
   "metadata": {},
   "source": [
    "### Confidence Interval of <i> \"New\" </i> Model"
   ]
  },
  {
   "cell_type": "code",
   "execution_count": 31,
   "metadata": {},
   "outputs": [
    {
     "data": {
      "text/plain": [
       "(264.3348164103898, 270.6651835896102)"
      ]
     },
     "execution_count": 31,
     "metadata": {},
     "output_type": "execute_result"
    }
   ],
   "source": [
    "ci_2_left  = np.mean(golf['New']) + (t_stat_95*SE2)\n",
    "ci_2_right = np.mean(golf['New']) - (t_stat_95*SE2)\n",
    "ci_2_left,ci_2_right"
   ]
  },
  {
   "cell_type": "markdown",
   "metadata": {},
   "source": [
    "### Confidence Interval of <i> \"Difference of Means\" </i> Model"
   ]
  },
  {
   "cell_type": "code",
   "execution_count": 32,
   "metadata": {},
   "outputs": [
    {
     "data": {
      "text/plain": [
       "2.775"
      ]
     },
     "execution_count": 32,
     "metadata": {},
     "output_type": "execute_result"
    }
   ],
   "source": [
    "diff_of_mean = np.mean(golf['Current'] - golf['New'])\n",
    "diff_of_mean"
   ]
  },
  {
   "cell_type": "code",
   "execution_count": 33,
   "metadata": {},
   "outputs": [
    {
     "data": {
      "text/plain": [
       "-1.9908470685550523"
      ]
     },
     "execution_count": 33,
     "metadata": {},
     "output_type": "execute_result"
    }
   ],
   "source": [
    "t_value = stats.t.ppf(0.025,78)   # n1+n2-2\n",
    "t_value"
   ]
  },
  {
   "cell_type": "code",
   "execution_count": 34,
   "metadata": {},
   "outputs": [
    {
     "data": {
      "text/plain": [
       "(-1.3839584057317524, 6.933958405731753)"
      ]
     },
     "execution_count": 34,
     "metadata": {},
     "output_type": "execute_result"
    }
   ],
   "source": [
    "ci_3_left  = diff_of_mean + (t_value*SE3)\n",
    "ci_3_right = diff_of_mean - (t_value*SE3)\n",
    "ci_3_left,ci_3_right"
   ]
  },
  {
   "cell_type": "markdown",
   "metadata": {},
   "source": [
    "# Managerial Report"
   ]
  },
  {
   "cell_type": "markdown",
   "metadata": {},
   "source": [
    "## 1. Rationale for hypothesis"
   ]
  },
  {
   "cell_type": "markdown",
   "metadata": {},
   "source": [
    "Par Inc. can conduct an independent 2 sample T-Test to compare the driving distances of the two models of golf balls. </br>\n",
    "They can set up the hypothesis as: <br>\n",
    "1. Null hypothesis representing no significant difference in the driving distance between the current balls and the newly designed balls and <br>\n",
    "2. Alternate hypothesis representing significant difference in the driving distance between the two design of golf balls."
   ]
  },
  {
   "cell_type": "markdown",
   "metadata": {},
   "source": [
    "## 2. Hypopthesis testing Conclusion "
   ]
  },
  {
   "cell_type": "markdown",
   "metadata": {},
   "source": [
    "1. The hypothesis tests conducted above clearly show that there is not enough evidence to reject the null hypothesis. Thus accepting the null hypothesis. This indicates that there is no significant difference between the driving distances of the two designs of galf balls. <br>\n",
    "2. T statistic (1.33) is far away from the rejection area or the critical T value (2.022) for 95% confidence which indicates the failure to reject the null hypothesis. <br>\n",
    "3. The P-value of the test (two tailed) is 0.188 ( 0.18 > 0.05 ), which is greater than the significance level (0.05) thus not providing enough evidence to reject the null hypothesis."
   ]
  },
  {
   "cell_type": "markdown",
   "metadata": {},
   "source": [
    "## 3. Analyzing the data "
   ]
  },
  {
   "cell_type": "markdown",
   "metadata": {},
   "source": [
    "1. The Box plots for the different models (Current and New) show us that the samples lie mostly between the 260 - 275 yards range.\n",
    "2. The Box plot for the difference of means clearly represents a marginal difference between the means of the two samples with the median nearly at 0. This also gives the idea that there is no significant difference between the two samples which is further tested by the various statistical tests. \n",
    "3. The Shapiro test conducted in the given data set gives a p-value of 0.38 for \"Current Model\" and 0.30 for \"New Model\" both of which are greater than the significance level ( 0.05 ), which indicates the failure to reject the Null Hypothesis thus indicating that the samples are from a normally distributed population. \n",
    "4. The levene test provides a p-value of 0.615 which is greater than 0.05, thus indicating the failure to reject the null hypothesis for levene test. Therefore, the two samples have equal variances. \n",
    "5. Even though the New driving distance may look greater than the Current model, statistically there is no significant difference. It is only due to the higher variance in the New Model as the new model variance (97.95) is greater by approximately 28% than the Current model (76.61) \n",
    "6. The frquency distribution (histogram) for the two models show that the samples have maximum frequency in the  approxixmate range of 272 - 275 yards for the Current Model and 262 - 267 yards for the New Model\n",
    "7. The frequency distribution (histogram) for the difference of means shows that most of the data is distributed around zero.\n",
    "8. The box plots depict the absence of any outliers in the sample.\n",
    "9. There is no missing data in the samples.\n",
    "10. The pooled standard deviation of the sample is 9.34.\n",
    "11. The power of the test is 45% which means that there is 45% chance of null hypothesis being false and rejecting the null hypothesis."
   ]
  },
  {
   "cell_type": "markdown",
   "metadata": {},
   "source": [
    "# 4. Descriptive Statistical Summaries"
   ]
  },
  {
   "cell_type": "markdown",
   "metadata": {},
   "source": [
    "## Current Model"
   ]
  },
  {
   "cell_type": "markdown",
   "metadata": {},
   "source": [
    "1. There are 40 samples in the current model.\n",
    "2. The average (mean) of the samples is 270.275.\n",
    "3. The standard deviation of the Sample is 8.75.\n",
    "4. The minimum distance (in yards) is 255 yards.\n",
    "5. The maximum distance (in yards) is 289 yards.\n",
    "6. The 25th quartile is 263 yards\n",
    "7. The 75th quartile is 275 yards"
   ]
  },
  {
   "cell_type": "markdown",
   "metadata": {},
   "source": [
    "## New Model"
   ]
  },
  {
   "cell_type": "markdown",
   "metadata": {},
   "source": [
    "1. There are 40 samples in the current model.\n",
    "2. The average (mean) of the samples is 267.50.\n",
    "3. The standard deviation of the Sample is 9.90.\n",
    "4. The minimum distance (in yards) is 250 yards.\n",
    "5. The maximum distance (in yards) is 289 yards.\n",
    "6. The 25th quartile is 262 yards\n",
    "7. The 75th quartile is 274 yards"
   ]
  },
  {
   "cell_type": "markdown",
   "metadata": {},
   "source": [
    "## Difference of means Model"
   ]
  },
  {
   "cell_type": "markdown",
   "metadata": {},
   "source": [
    "1. There are 40 samples in the current model.\n",
    "2. The average (mean) of the difference is 2.775.\n",
    "3. The standard deviation of the Sample is 13.74.\n",
    "4. The minimum distance (in yards) is -32 yards.\n",
    "5. The maximum distance (in yards) is 27 yards.\n",
    "6. The 25th quartile is -10.75 yards\n",
    "7. The 75th quartile is 6.50 yards"
   ]
  },
  {
   "cell_type": "markdown",
   "metadata": {},
   "source": [
    "# 4. Confidence Intervals "
   ]
  },
  {
   "cell_type": "markdown",
   "metadata": {},
   "source": [
    "## Current Model"
   ]
  },
  {
   "cell_type": "markdown",
   "metadata": {},
   "source": [
    "1. The mean is : 270.275.\n",
    "2. The standard error ( SE1 ) is : 1.384\n",
    "3. The 95% T-value is : -2.023\n",
    "4. The lower limit of confidence interval : 267.476\n",
    "5. The upper limit of confidence interval : 273.074\n",
    "6. The difference between the confidence interval : 5.60"
   ]
  },
  {
   "cell_type": "markdown",
   "metadata": {},
   "source": [
    "## New Model"
   ]
  },
  {
   "cell_type": "markdown",
   "metadata": {},
   "source": [
    "1. The mean is : 267.50\n",
    "2. The standard error ( SE2 ) is : 1.565\n",
    "3. The 95% T-value is : -2.023\n",
    "4. The lower limit of confidence interval : 264.335 \n",
    "5. The upper limit of confidence interval : 270.665\n",
    "6. The difference between the confidence interval : 6.33"
   ]
  },
  {
   "cell_type": "markdown",
   "metadata": {},
   "source": [
    "## Difference of means Model"
   ]
  },
  {
   "cell_type": "markdown",
   "metadata": {},
   "source": [
    "1. The mean is : 2.775\n",
    "2. The standard error ( SE3 ) is : 2.089\n",
    "3. The 95% T-value is : -1.99\n",
    "4. The lower limit of confidence interval : -1.384 \n",
    "5. The upper limit of confidence interval :  6.934\n",
    "6. The difference between the confidence interval : 8.32"
   ]
  },
  {
   "cell_type": "markdown",
   "metadata": {},
   "source": [
    "# 5. Need for larger data set"
   ]
  },
  {
   "cell_type": "markdown",
   "metadata": {},
   "source": [
    "1. We clearly see from the above analysis that the 95% confidence intervals are very narrow. This means that with 95% confidence, we can say that the actual population mean for the diffefrent models lie within their respective range of confidence interval values. \n",
    "2. We also know that the confidence interval varies directly with the standard error of the sample. And with increase in sample size, the standard error will reduce which will lead to an even narrower confidence interval. \n",
    "3. 95% of the times the true population mean will lie within this interval.  \n",
    "4. Since our 95% confidence interval is already significantly narrow, the population mean can be estimated with a good precision and there is no further need of a greater sample size."
   ]
  },
  {
   "cell_type": "markdown",
   "metadata": {},
   "source": [
    "# Conclusion"
   ]
  },
  {
   "cell_type": "markdown",
   "metadata": {},
   "source": [
    "1. The golf balls designed by Par Inc. have no significant difference in the driving distances between their previous design and the new cut-resistant design of the golf balls. There is not enough evidence to say that the new designs cover a greater distance than the older one. Therefore it can be said that the driving distances of the two designs are comparable.\n",
    "2. The Null Hypothesis stands true in the scenario as there is not enough evidence to reject the null hypothesis.\n",
    "3. With the narrow confidence intervals, the increase in sample size will only reduce the width of the confidence interval and make the estimator more accurate. But as the interval is already so narrow with 95% confidence, there is no need for a larger sample size as it will give us the same conclusion.\n",
    "4. Par Inc should also consider other factors like weight of the ball, ground conditions for the test. \n",
    "5. The test should be done on atleast 4-5 different grounds or golf courses so that a more accurate analysis can be done.\n",
    "6. Par Inc desired that the driving distances be comparable with the new cut-resistant technology, and with the above testing we see that the new coating does not have a significant difference in the distance of the new golf balls. Therefore the driving distances are similar just as desired by the company. \n",
    "7. The new coating on the golf balls therefore produce a cut-resistant, longer lasting and durable ball with the same driving distance as the previous design. It is in alignment with the company's requirements and therefore the product should be launched in the market. "
   ]
  },
  {
   "cell_type": "code",
   "execution_count": null,
   "metadata": {},
   "outputs": [],
   "source": []
  }
 ],
 "metadata": {
  "kernelspec": {
   "display_name": "Python 3",
   "language": "python",
   "name": "python3"
  },
  "language_info": {
   "codemirror_mode": {
    "name": "ipython",
    "version": 3
   },
   "file_extension": ".py",
   "mimetype": "text/x-python",
   "name": "python",
   "nbconvert_exporter": "python",
   "pygments_lexer": "ipython3",
   "version": "3.7.1"
  }
 },
 "nbformat": 4,
 "nbformat_minor": 2
}
